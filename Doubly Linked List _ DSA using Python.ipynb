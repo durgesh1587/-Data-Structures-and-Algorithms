{
 "cells": [
  {
   "cell_type": "code",
   "execution_count": 16,
   "id": "dff9c361-e4d1-4af7-a0a7-9bf0fda6cb9f",
   "metadata": {},
   "outputs": [],
   "source": [
    "class Node:\n",
    "    def __init__(self, prev=None, item=None, next=None):\n",
    "        self.prev = prev\n",
    "        self.item = item\n",
    "        self.next = next\n",
    "\n",
    "class Double_linked_list :\n",
    "    def __init__(self, start=None):\n",
    "        self.start = start\n",
    "\n",
    "    def is_empty(self):\n",
    "        return self.start == None\n",
    "\n",
    "    def insert_at_start(self, data):\n",
    "        node = Node(None, data, self.start)\n",
    "        if not self.is_empty():\n",
    "            self.start.prev = node\n",
    "        self.start = node\n",
    "\n",
    "    def insert_at_last(self, data):\n",
    "        temp = self.start\n",
    "        if self.start != None:\n",
    "            while temp.next != None:\n",
    "                temp = temp.next\n",
    "        node = Node(temp, data, None)\n",
    "        if temp == None:\n",
    "            self.start = node\n",
    "        else:\n",
    "            temp.next = node\n",
    "\n",
    "    def search(self, data):\n",
    "        temp = self.start\n",
    "        while temp is not None:\n",
    "            if temp.item == data:\n",
    "                return temp\n",
    "            temp = temp.next\n",
    "        return None\n",
    "\n",
    "    def insert_after(self, temp, data):\n",
    "        if temp is not None:\n",
    "            node = Node(temp, data, temp.next)\n",
    "            if temp.next is not None:\n",
    "                temp.next.prev = node\n",
    "                temp.next = node\n",
    "\n",
    "    def print_lst(self):\n",
    "        temp = self.start\n",
    "        while temp is not None:\n",
    "            print(temp.item, end=\" \")\n",
    "            temp = temp.next\n",
    "\n",
    "    def delete_first(self):\n",
    "        if self.start is not None:\n",
    "            self.start = self.start.next\n",
    "            if self.start is not None:\n",
    "                self.start.prev = None\n",
    "\n",
    "    def delete_last(self):\n",
    "        if self.start is None:\n",
    "            pass\n",
    "        elif self.start.next is None:\n",
    "            self.start = None\n",
    "        else:\n",
    "            temp = self.start\n",
    "            while temp.next is not None:\n",
    "                temp = temp.next\n",
    "            temp.prev.next = None\n",
    "\n",
    "    def delete_item(self, data):\n",
    "        if self.start is None:\n",
    "            pass\n",
    "        else:\n",
    "            temp = self.start\n",
    "            while temp is not None:\n",
    "                if temp.item == data:\n",
    "                    if temp.next is not None:\n",
    "                        temp.next.prev = temp.prev\n",
    "                        if temp.prev is not None:\n",
    "                            temp.prev.next = temp.next\n",
    "                    else:\n",
    "                        self.start = temp.next\n",
    "                        break\n",
    "                temp = temp.next\n"
   ]
  },
  {
   "cell_type": "code",
   "execution_count": 17,
   "id": "7db532c7-56f4-4a21-b716-80bcb31b53e3",
   "metadata": {},
   "outputs": [],
   "source": [
    "def __iter__(self):\n",
    "    return DLLIterator(self.start)\n",
    "\n",
    "class DLLIterator:\n",
    "    def __init__(self, start):\n",
    "        self.current = start\n",
    "\n",
    "    def __iter__(self):\n",
    "        return self\n",
    "\n",
    "    def __next__(self):\n",
    "        if not self.current:\n",
    "            raise StopIteration\n",
    "        data = self.current.item\n",
    "        self.current = self.current.next\n",
    "        return data\n"
   ]
  },
  {
   "cell_type": "code",
   "execution_count": 36,
   "id": "29e3fe30-0cbd-48c2-bb6d-2210f805b484",
   "metadata": {},
   "outputs": [],
   "source": [
    "my_lists = Double_linked_list()\n",
    "my_lists.insert_at_start(10)\n",
    "my_lists.insert_at_last(30)\n",
    "my_lists.insert_after(my_lists.search(10), 5)\n",
    "\n"
   ]
  },
  {
   "cell_type": "code",
   "execution_count": 37,
   "id": "6b39d083-aa33-410e-9abf-e76d752c8be8",
   "metadata": {},
   "outputs": [
    {
     "data": {
      "text/plain": [
       "<__main__.Double_linked_list at 0x7f47009179d0>"
      ]
     },
     "execution_count": 37,
     "metadata": {},
     "output_type": "execute_result"
    }
   ],
   "source": [
    "my_lists"
   ]
  },
  {
   "cell_type": "code",
   "execution_count": null,
   "id": "b833d519-ec54-4c7b-adf8-5460071f8256",
   "metadata": {},
   "outputs": [],
   "source": []
  }
 ],
 "metadata": {
  "kernelspec": {
   "display_name": "Python 3 (ipykernel)",
   "language": "python",
   "name": "python3"
  },
  "language_info": {
   "codemirror_mode": {
    "name": "ipython",
    "version": 3
   },
   "file_extension": ".py",
   "mimetype": "text/x-python",
   "name": "python",
   "nbconvert_exporter": "python",
   "pygments_lexer": "ipython3",
   "version": "3.10.8"
  }
 },
 "nbformat": 4,
 "nbformat_minor": 5
}
