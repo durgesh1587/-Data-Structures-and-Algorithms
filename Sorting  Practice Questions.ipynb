{
 "cells": [
  {
   "cell_type": "markdown",
   "id": "f2c79587-829f-478f-bf0c-6d7eb4a963a9",
   "metadata": {},
   "source": [
    "Problem 1.Given an array of n numbers, give an algorithm which gives the element appearing maximum\n",
    "number of times?"
   ]
  },
  {
   "cell_type": "code",
   "execution_count": 1,
   "id": "f970f072-88c6-49cf-99ba-625714f7f507",
   "metadata": {},
   "outputs": [
    {
     "name": "stdout",
     "output_type": "stream",
     "text": [
      "Element with maximum occurrence: 2\n"
     ]
    }
   ],
   "source": [
    "def find_max_occurrence(arr):\n",
    "    frequency_dict={}\n",
    "    for num in arr:\n",
    "        if num in frequency_dict:\n",
    "            frequency_dict[num]+=1\n",
    "        else:\n",
    "            frequency_dict[num]=1\n",
    "    max_occurrence_element=max(frequency_dict, key=frequency_dict.get)\n",
    "\n",
    "    return max_occurrence_element\n",
    "array=[1,2,3,4,2,2,3,1,2,5,2]\n",
    "result=find_max_occurrence(array)\n",
    "print(\"Element with maximum occurrence:\",result)\n"
   ]
  },
  {
   "cell_type": "markdown",
   "id": "cb1e5a91-ea74-4635-b779-b5a6a985c9b8",
   "metadata": {},
   "source": [
    "We are given a list of n-1 integers and these integers are in the range of 1 to n . There are no\n",
    "duplicates in the list. One of the integers is missing in the list. Give an algorithm to find that element Ex:\n",
    "[1,2,4,6,3,7,8] 5 is the missing num."
   ]
  },
  {
   "cell_type": "code",
   "execution_count": 2,
   "id": "8a618906-c16b-4924-ad82-b87184ee97b1",
   "metadata": {},
   "outputs": [
    {
     "name": "stdout",
     "output_type": "stream",
     "text": [
      "Missing element: 5\n"
     ]
    }
   ],
   "source": [
    "def find_missing_element(arr):\n",
    "    n=len(arr)+1  \n",
    "\n",
    "    expected_sum=(n*(n+1))//2\n",
    "    actual_sum = sum(arr)\n",
    "    missing_element = expected_sum - actual_sum\n",
    "    return missing_element\n",
    "\n",
    "arr = [1, 2, 4, 6, 3, 7, 8]\n",
    "result = find_missing_element(arr)\n",
    "print(\"Missing element:\", result)\n"
   ]
  },
  {
   "cell_type": "markdown",
   "id": "c7d71992-5d4a-4956-835b-6b9a5a5ed2e8",
   "metadata": {},
   "source": [
    "Given an array of n positive numbers. All numbers occurs even number of times except 1 which\n",
    "occurs odd number of times. Find that number in O(n) time and O(1) space. Ex: [1,2,3,2,3,1,3]. 3 is repeats odd\n",
    "times."
   ]
  },
  {
   "cell_type": "code",
   "execution_count": 3,
   "id": "ae251068-a40b-4344-976b-540bb0d46884",
   "metadata": {},
   "outputs": [
    {
     "name": "stdout",
     "output_type": "stream",
     "text": [
      "The number that occurs an odd number of times is: 3\n"
     ]
    }
   ],
   "source": [
    "def find_odd_occurrence(arr):\n",
    "    result=0\n",
    "    for num in arr:\n",
    "        result ^=num\n",
    "    return result\n",
    "\n",
    "arr=[1,2,3,2,3,1,3]\n",
    "result=find_odd_occurrence(arr)\n",
    "print(f\"The number that occurs an odd number of times is: {result}\")\n"
   ]
  },
  {
   "cell_type": "markdown",
   "id": "e8ae137f-198b-4a91-b932-66155442dea3",
   "metadata": {},
   "source": [
    "Q -Given an array of n elements. Find two elements in the array such that their sum is equal to given\n",
    "element K."
   ]
  },
  {
   "cell_type": "code",
   "execution_count": 4,
   "id": "c916cf50-f6f3-4f9e-b133-4f6ce7696135",
   "metadata": {},
   "outputs": [
    {
     "name": "stdout",
     "output_type": "stream",
     "text": [
      "Pair with sum10found:4and6\n"
     ]
    }
   ],
   "source": [
    "def find_pair_with_sum(arr,target):\n",
    "    elements={}\n",
    "    for i, num in enumerate(arr):\n",
    "        complement = target - num\n",
    "        if complement in elements:\n",
    "            return [arr[elements[complement]], arr[i]]\n",
    "        elements[num] = i\n",
    "    \n",
    "    return None\n",
    "arr=[1,4,6,8,9]\n",
    "target=10\n",
    "result=find_pair_with_sum(arr,target)\n",
    "if result:\n",
    "    print(f\"Pair with sum{target}found:{result[0]}and{result[1]}\")\n",
    "else:\n",
    "    print(f\"No pair with sum {target} found\")\n"
   ]
  },
  {
   "cell_type": "markdown",
   "id": "260fe128-6208-4c06-afa5-3876592a1397",
   "metadata": {},
   "source": [
    "Given an array of both positive and negative numbers, find two numbers such that their sum is\n",
    "closest to 0. Ex: [ 1 ,60 ,-10, 70, -80,85]. Ans : -80,85."
   ]
  },
  {
   "cell_type": "code",
   "execution_count": 5,
   "id": "fcf796f7-66ef-46ad-8753-7e67acb9bf4b",
   "metadata": {},
   "outputs": [
    {
     "name": "stdout",
     "output_type": "stream",
     "text": [
      "Pair with sum closest to zero: (-80, 85)\n"
     ]
    }
   ],
   "source": [
    "def find_pair_with_closest_sum_to_zero(arr):\n",
    "    arr.sort()\n",
    "    closest_sum=float('inf')\n",
    "    closest_pair=None\n",
    "    left=0\n",
    "    right=len(arr)-1\n",
    "    while left < right:\n",
    "        current_sum = arr[left] + arr[right]\n",
    "        if abs(current_sum) < abs(closest_sum):\n",
    "            closest_sum = current_sum\n",
    "            closest_pair = (arr[left], arr[right])\n",
    "        if current_sum<0:\n",
    "            left += 1\n",
    "        elif current_sum>0:\n",
    "            right-=1\n",
    "        else:\n",
    "            return closest_pair\n",
    "\n",
    "    return closest_pair\n",
    "arr=[1,60,-10,70,-80,85]\n",
    "result=find_pair_with_closest_sum_to_zero(arr)\n",
    "print(\"Pair with sum closest to zero:\",result)\n"
   ]
  },
  {
   "cell_type": "markdown",
   "id": "b98eb7cf-18d2-46a4-a9e1-8afff91761ae",
   "metadata": {},
   "source": [
    "q -Given an array of n elements . Find three elements such that their sum is equal to the given\n",
    "number."
   ]
  },
  {
   "cell_type": "code",
   "execution_count": 7,
   "id": "cb549970-0096-4f92-8468-f5bcdf4d205c",
   "metadata": {},
   "outputs": [
    {
     "name": "stdout",
     "output_type": "stream",
     "text": [
      "Triplet with sum 22found:[4, 8, 10]\n"
     ]
    }
   ],
   "source": [
    "def find_triplet_with_sum(arr,target):\n",
    "    arr.sort()\n",
    "    for i in range(len(arr)-2):\n",
    "        left=i+1\n",
    "        right=len(arr)-1\n",
    "        while left < right:\n",
    "            current_sum=arr[i]+arr[left]+arr[right]\n",
    "            if current_sum == target:\n",
    "                return [arr[i],arr[left],arr[right]]\n",
    "            elif current_sum < target:\n",
    "                left+=1\n",
    "            else:\n",
    "                right-=1 \n",
    "    return None\n",
    "arr=[1,4,45,6,10,8]\n",
    "target=22\n",
    "result=find_triplet_with_sum(arr,target)\n",
    "if result:\n",
    "    print(f\"Triplet with sum {target}found:{result}\")\n",
    "else:\n",
    "    print(f\"No triplet with sum {target}found\")\n"
   ]
  },
  {
   "cell_type": "markdown",
   "id": "4161462d-8813-458d-b4d3-74260ac31704",
   "metadata": {},
   "source": [
    "Q -Given an array of n elements . Find three elements i, j, k in the array such that\n",
    "i * i + j * j = k*k."
   ]
  },
  {
   "cell_type": "code",
   "execution_count": 8,
   "id": "bd4188bf-1172-404c-ad4f-99412c302135",
   "metadata": {},
   "outputs": [
    {
     "name": "stdout",
     "output_type": "stream",
     "text": [
      "Triplet found: (3, 4, 5)\n"
     ]
    }
   ],
   "source": [
    "def find_triplet(arr):\n",
    "    square_set=set(x*x for x in arr)\n",
    "    for i in range(len(arr)):\n",
    "        for j in range(i+1,len(arr)):\n",
    "            sum_of_squares=arr[i]*arr[i]+arr[j]*arr[j]\n",
    "            if sum_of_squares in square_set:\n",
    "                return (arr[i],arr[j],int(sum_of_squares**0.5))\n",
    "    return None\n",
    "arr=[3,1,4,6,5]\n",
    "result=find_triplet(arr)\n",
    "if result:\n",
    "    print(\"Triplet found:\",result)\n",
    "else:\n",
    "    print(\"No triplet found\")\n"
   ]
  },
  {
   "cell_type": "markdown",
   "id": "464064b0-3901-4811-a0f3-594d65f85d08",
   "metadata": {},
   "source": [
    "An element is a majority if it appears more than n/2 times. Give an algorithm takes an array of n\n",
    "element as argument and identifies a majority (if it exists)."
   ]
  },
  {
   "cell_type": "code",
   "execution_count": 9,
   "id": "ddfe7451-b30a-4f4f-84c6-c36d0852ac84",
   "metadata": {},
   "outputs": [
    {
     "name": "stdout",
     "output_type": "stream",
     "text": [
      "Majority element: 2\n"
     ]
    }
   ],
   "source": [
    "def find_majority_element(arr):\n",
    "    candidate=None\n",
    "    count=0\n",
    "    for num in arr:\n",
    "        if count==0:\n",
    "            candidate=num\n",
    "            count=1\n",
    "        elif num==candidate:\n",
    "            count+=1\n",
    "        else:\n",
    "            count-=1\n",
    "    count = 0\n",
    "    for num in arr:\n",
    "        if num==candidate:\n",
    "            count+=1\n",
    "    if count>len(arr)/2:\n",
    "        return candidate\n",
    "    else:\n",
    "        return None\n",
    "arr=[2,2,3,4,2,2,5,2,2]\n",
    "majority_element=find_majority_element(arr)\n",
    "if majority_element is not None:\n",
    "    print(\"Majority element:\", majority_element)\n",
    "else:\n",
    "    print(\"No majority element\")\n"
   ]
  },
  {
   "cell_type": "markdown",
   "id": "3119ec0f-f205-4308-a396-c65dbf8255e0",
   "metadata": {},
   "source": [
    "Q -Given n × n matrix, and in each row all 1’s are followed by 0’s. Find the row with the maximum\n",
    "number of 0’s."
   ]
  },
  {
   "cell_type": "code",
   "execution_count": 11,
   "id": "2ffc4c5b-5969-4e48-8407-fc57f342a4bc",
   "metadata": {},
   "outputs": [
    {
     "name": "stdout",
     "output_type": "stream",
     "text": [
      "Row with maximum zeros: 2\n"
     ]
    }
   ],
   "source": [
    "def find_row_with_max_zeros(matrix):\n",
    "    max_zeros_row_index=0\n",
    "    max_zeros_count=0\n",
    "    for i, row in enumerate(matrix):\n",
    "        zeros_count=row.count(0) \n",
    "        if zeros_count>max_zeros_count:\n",
    "            max_zeros_count=zeros_count\n",
    "            max_zeros_row_index=i     \n",
    "    return max_zeros_row_index\n",
    "matrix = [\n",
    "    [1, 1, 1, 0, 0],\n",
    "    [1, 1, 0, 0, 0],\n",
    "    [1, 0, 0, 0, 0],\n",
    "    [1, 1, 1, 1, 0],\n",
    "    [1, 1, 1, 0, 0]\n",
    "]\n",
    "max_zeros_row_index = find_row_with_max_zeros(matrix)\n",
    "print(\"Row with maximum zeros:\", max_zeros_row_index)\n"
   ]
  },
  {
   "cell_type": "markdown",
   "id": "cd0587f0-2b1e-4228-828b-38b43a85407a",
   "metadata": {},
   "source": [
    "Q-Sort an array of 0’s, 1’s and 2’s [or R’s, G’s and B’s]: Given an array A[] consisting of 0’s, 1’s and\n",
    "2’s, give an algorithm for sorting A[].The algorithm should put all 0’s first, then all 1’s and finally all 2’s at the\n",
    "end. Example Input = {0,1,1,0,1,2,1,2,0,0,0,1}, Output = {0,0,0,0,0,1,1,1,1,1,2,2}"
   ]
  },
  {
   "cell_type": "code",
   "execution_count": 15,
   "id": "0236d562-5cf5-4d61-9bb8-49a0265dbdfb",
   "metadata": {},
   "outputs": [
    {
     "name": "stdout",
     "output_type": "stream",
     "text": [
      "Sorted array: [0, 0, 0, 0, 0, 1, 1, 1, 1, 1, 2, 2]\n"
     ]
    }
   ],
   "source": [
    "def sort_012(arr):\n",
    "    low = 0\n",
    "    mid = 0\n",
    "    high = len(arr) - 1\n",
    "    \n",
    "    while mid <= high:\n",
    "        if arr[mid] == 0:\n",
    "            arr[low], arr[mid] = arr[mid], arr[low]\n",
    "            low += 1\n",
    "            mid += 1\n",
    "        elif arr[mid] == 1:\n",
    "            mid += 1\n",
    "        else:  # arr[mid] == 2\n",
    "            arr[mid], arr[high] =arr[high],arr[mid]\n",
    "            high -= 1\n",
    "            \n",
    "    return arr\n",
    "arr = [0,1,1,0,1,2,1,2,0,0,0,1]\n",
    "sorted_arr=sort_012(arr)\n",
    "print(\"Sorted array:\",sorted_arr)\n"
   ]
  },
  {
   "cell_type": "code",
   "execution_count": null,
   "id": "903b9b81-543e-4839-b0f0-40ef84d310b7",
   "metadata": {},
   "outputs": [],
   "source": []
  }
 ],
 "metadata": {
  "kernelspec": {
   "display_name": "Python 3 (ipykernel)",
   "language": "python",
   "name": "python3"
  },
  "language_info": {
   "codemirror_mode": {
    "name": "ipython",
    "version": 3
   },
   "file_extension": ".py",
   "mimetype": "text/x-python",
   "name": "python",
   "nbconvert_exporter": "python",
   "pygments_lexer": "ipython3",
   "version": "3.11.7"
  }
 },
 "nbformat": 4,
 "nbformat_minor": 5
}
