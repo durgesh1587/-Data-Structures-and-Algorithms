{
 "cells": [
  {
   "cell_type": "markdown",
   "id": "93dbc501-f600-4167-b16e-fc77b13fbf4a",
   "metadata": {},
   "source": [
    ".1-Given a recurrence relation, solve it using the substitution method:\n"
   ]
  },
  {
   "cell_type": "code",
   "execution_count": 9,
   "id": "a29a4431-7794-4e7f-af50-99b56d241a2b",
   "metadata": {},
   "outputs": [
    {
     "name": "stdout",
     "output_type": "stream",
     "text": [
      "T(2) = 105\n"
     ]
    }
   ],
   "source": [
    "def T(n):\n",
    "    if n==0:\n",
    "        return 5\n",
    "    else:\n",
    "        return 3*T(n-1)+12 * n\n",
    "\n",
    "result = T(2)\n",
    "print(\"T(2) =\",result)\n"
   ]
  },
  {
   "cell_type": "markdown",
   "id": "2fadea81-7af3-41a1-b17b-4082ea85cc27",
   "metadata": {},
   "source": [
    "2. Given a recurrence relation, solve it using the substitution method:\n",
    "a. T(n) = T(n-1) + c\n",
    "b. T(n) = 2T(n/2) + n\n",
    "c. T(n) = 2T(n/2) + c\n",
    "d. T(n) = T(n/2) + c"
   ]
  },
  {
   "cell_type": "code",
   "execution_count": 6,
   "id": "ec8fc9f2-c63c-4b57-9084-a75c2f24319c",
   "metadata": {},
   "outputs": [
    {
     "name": "stdout",
     "output_type": "stream",
     "text": [
      "a. T(5) = 15\n"
     ]
    }
   ],
   "source": [
    "#a. T(n)=2T(n-1)+1\n",
    "def solve_recurrence_a(n,c):\n",
    "    if n==0:\n",
    "        return 0\n",
    "    else:\n",
    "        return solve_recurrence_a(n-1,c)+c\n",
    "\n",
    "result_a=solve_recurrence_a(5,3)\n",
    "print(\"a.T(5) =\",result_a)\n",
    "\n"
   ]
  },
  {
   "cell_type": "code",
   "execution_count": 4,
   "id": "9faf84c2-076c-43b9-810e-ee5d8a4dd9bc",
   "metadata": {},
   "outputs": [],
   "source": [
    "#b. T(n) = 2T(n/2) + n"
   ]
  },
  {
   "cell_type": "code",
   "execution_count": 7,
   "id": "b23865be-5427-44f6-a95d-3bbfef9cd50c",
   "metadata": {},
   "outputs": [
    {
     "name": "stdout",
     "output_type": "stream",
     "text": [
      "b. T(8) = 32\n"
     ]
    }
   ],
   "source": [
    "def solve_recurrence_b(n):\n",
    "    if n == 1:\n",
    "        return 1\n",
    "    else:\n",
    "        return 2*solve_recurrence_b(n//2)+n\n",
    "\n",
    "result_b = solve_recurrence_b(8)\n",
    "print(\"b. T(8) =\", result_b)\n"
   ]
  },
  {
   "cell_type": "code",
   "execution_count": 11,
   "id": "19e9eebd-2c60-4a48-9935-3c88a9001b85",
   "metadata": {},
   "outputs": [
    {
     "name": "stdout",
     "output_type": "stream",
     "text": [
      "c.T(4)= 35\n"
     ]
    }
   ],
   "source": [
    "#c. T(n) = 2T(n/2) + c\n",
    "def solve_recurrence_c(n,c):\n",
    "    if n==1:\n",
    "        return c\n",
    "    else:\n",
    "        return 2*solve_recurrence_c(n//2,c)+c\n",
    "result_c=solve_recurrence_c(4,5)\n",
    "print(\"c.T(4)=\",result_c)\n"
   ]
  },
  {
   "cell_type": "code",
   "execution_count": 13,
   "id": "e3b3d9fe-9820-44f9-afc3-240be6011d6a",
   "metadata": {},
   "outputs": [
    {
     "name": "stdout",
     "output_type": "stream",
     "text": [
      "d.T(16)= 10\n"
     ]
    }
   ],
   "source": [
    "#d. T(n) = T(n/2) + c\n",
    "def solve_recurrence_d(n,c):\n",
    "    if n==1:\n",
    "        return c\n",
    "    else:\n",
    "        return solve_recurrence_d(n//2,c)+c\n",
    "result_d=solve_recurrence_d(16,2)\n",
    "print(\"d.T(16)=\",result_d)\n"
   ]
  },
  {
   "cell_type": "markdown",
   "id": "64c32969-8302-41af-8c3f-7572189880db",
   "metadata": {},
   "source": [
    "3. Given a recurrence relation, solve it using the recursive tree approach:\n",
    "a. T(n) = 2T(n-1) +1\n",
    "b. T(n) = 2T(n/2) + n"
   ]
  },
  {
   "cell_type": "code",
   "execution_count": 14,
   "id": "4375420e-fba2-4d5f-94a4-6642b6f426e3",
   "metadata": {},
   "outputs": [
    {
     "name": "stdout",
     "output_type": "stream",
     "text": [
      "T(5) = 63\n"
     ]
    }
   ],
   "source": [
    "#a. T(n) = 2T(n-1) + 1\n",
    "def recurrence_relation_a(n):\n",
    "    if n==0:\n",
    "        return 1\n",
    "    else:\n",
    "        return 2*recurrence_relation_a(n-1)+1\n",
    "n_value_a = 5 \n",
    "result_a = recurrence_relation_a(n_value_a)\n",
    "print(f\"T({n_value_a}) = {result_a}\")\n"
   ]
  },
  {
   "cell_type": "code",
   "execution_count": null,
   "id": "2befe97d-841b-4c5d-a1e8-8bef845cfe62",
   "metadata": {},
   "outputs": [],
   "source": [
    "#b. T(n) = 2T(n/2) + n\n",
    "def recurrence_relation_b(n):\n",
    "    if n == 1:\n",
    "        return 1\n",
    "    else:\n",
    "        return 2 * recurrence_relation_b(n / 2) + n\n",
    "\n",
    "# Example usage:\n",
    "n_value_b = 8  # You can replace this with any positive integer\n",
    "result_b = recurrence_relation_b(n_value_b)\n",
    "print(f\"T({n_value_b}) = {result_b}\")\n"
   ]
  }
 ],
 "metadata": {
  "kernelspec": {
   "display_name": "Python 3 (ipykernel)",
   "language": "python",
   "name": "python3"
  },
  "language_info": {
   "codemirror_mode": {
    "name": "ipython",
    "version": 3
   },
   "file_extension": ".py",
   "mimetype": "text/x-python",
   "name": "python",
   "nbconvert_exporter": "python",
   "pygments_lexer": "ipython3",
   "version": "3.11.7"
  }
 },
 "nbformat": 4,
 "nbformat_minor": 5
}
