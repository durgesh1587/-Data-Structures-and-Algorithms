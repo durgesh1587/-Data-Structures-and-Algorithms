{
 "cells": [
  {
   "cell_type": "code",
   "execution_count": 4,
   "id": "29697772",
   "metadata": {},
   "outputs": [
    {
     "name": "stdout",
     "output_type": "stream",
     "text": [
      "Top element is : 50\n",
      "Removed element is : 50\n",
      "Top element is : 30\n",
      "\n"
     ]
    }
   ],
   "source": [
    "class stack:\n",
    "    \n",
    "    def __init__(self):\n",
    "        self.item=[]\n",
    "        \n",
    "    def is_empty(self):\n",
    "        return len(self.item)==0\n",
    "    \n",
    "    def push(self,data):\n",
    "        self.item.append(data)\n",
    "        \n",
    "    def pop(self):\n",
    "        if not self.is_empty():\n",
    "            return self.item.pop()\n",
    "        else:\n",
    "            raise IndexError(\"Stack is Empty\")\n",
    "            \n",
    "    def peek (self):\n",
    "        if not self.is_empty():\n",
    "            return self.item[-1]\n",
    "        \n",
    "        else:\n",
    "            raise IndexError(\"Stack is Error\")\n",
    "            \n",
    "    def size(self):\n",
    "        return len(self.item)\n",
    "    \n",
    "list1=stack()\n",
    "list1.push(10)\n",
    "list1.push(30)\n",
    "list1.push(50)\n",
    "    \n",
    "print (\"Top element is :\",list1.peek())\n",
    "print(\"Removed element is :\",list1.pop())\n",
    "print(\"Top element is :\",list1.peek())\n",
    "    \n",
    "print()\n",
    "    "
   ]
  },
  {
   "cell_type": "code",
   "execution_count": null,
   "id": "45dd74de",
   "metadata": {},
   "outputs": [],
   "source": []
  }
 ],
 "metadata": {
  "kernelspec": {
   "display_name": "Python 3 (ipykernel)",
   "language": "python",
   "name": "python3"
  },
  "language_info": {
   "codemirror_mode": {
    "name": "ipython",
    "version": 3
   },
   "file_extension": ".py",
   "mimetype": "text/x-python",
   "name": "python",
   "nbconvert_exporter": "python",
   "pygments_lexer": "ipython3",
   "version": "3.11.5"
  }
 },
 "nbformat": 4,
 "nbformat_minor": 5
}
