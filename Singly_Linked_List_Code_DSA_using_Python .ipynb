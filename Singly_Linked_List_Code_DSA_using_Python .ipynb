{
 "cells": [
  {
   "cell_type": "code",
   "execution_count": 12,
   "id": "65fce593",
   "metadata": {},
   "outputs": [],
   "source": [
    "class Node:\n",
    "    def __init__(self, item, next=None):\n",
    "        self.item = item\n",
    "        self.next = next\n",
    "\n",
    "class SingleLinkedList:\n",
    "    def __init__(self, start=None):\n",
    "        self.start = start\n",
    "\n",
    "    def is_empty(self):\n",
    "        return self.start is None\n",
    "\n",
    "    def insert_at_start(self, data):\n",
    "        new_node = Node(data, self.start)\n",
    "        self.start = new_node\n",
    "\n",
    "    def insert_at_last(self, data):\n",
    "        new_node = Node(data)\n",
    "        if not self.is_empty():\n",
    "            temp = self.start\n",
    "            while temp.next is not None:\n",
    "                temp = temp.next\n",
    "            temp.next = new_node\n",
    "        else:\n",
    "            self.start = new_node\n",
    "\n",
    "    def search(self, data):\n",
    "        temp = self.start\n",
    "        while temp is not None:\n",
    "            if temp.item == data:\n",
    "                return temp\n",
    "            temp = temp.next\n",
    "        return None\n",
    "\n",
    "    def insert_after(self, temp, data):\n",
    "        if temp is not None:\n",
    "            new_node = Node(data, temp.next)\n",
    "            temp.next = new_node\n",
    "\n",
    "    def print_list(self):\n",
    "        temp = self.start\n",
    "        while temp is not None:\n",
    "            print(temp.item, end=\" \")\n",
    "            temp = temp.next\n",
    "  \n",
    "    def delete_last(self):\n",
    "        if self.start is None:\n",
    "            return\n",
    "        elif self.start.next is None:\n",
    "            self.start = None\n",
    "        else:\n",
    "            temp = self.start\n",
    "            while temp.next.next is not None:\n",
    "                temp = temp.next\n",
    "            temp.next = None\n",
    "\n",
    "    def delete_item(self, data):\n",
    "        if self.start is None:\n",
    "            return\n",
    "        elif self.start.item == data:\n",
    "            self.start = self.start.next\n",
    "        else:\n",
    "            temp = self.start\n",
    "            while temp.next is not None:\n",
    "                if temp.next.item == data:\n",
    "                    temp.next = temp.next.next\n",
    "                    break\n",
    "                temp = temp.next\n",
    "\n",
    "    def __iter__(self):\n",
    "        return SLLIterator(self.start)\n",
    "       "
   ]
  },
  {
   "cell_type": "code",
   "execution_count": 13,
   "id": "3a1e7d9b",
   "metadata": {},
   "outputs": [],
   "source": [
    "class SLLIterator:\n",
    "    def __init__(self,start):\n",
    "        self.current=start\n",
    "    def __iter__(self):\n",
    "        return self\n",
    "    def __next__(self):\n",
    "        if not self.current:\n",
    "            raise StopIteration\n",
    "        data=self.current.item\n",
    "        self.current=self.current.next\n",
    "        return data\n"
   ]
  },
  {
   "cell_type": "code",
   "execution_count": 14,
   "id": "988b37ec",
   "metadata": {},
   "outputs": [
    {
     "name": "stdout",
     "output_type": "stream",
     "text": [
      "30 10 50 \n",
      "\n",
      "10 50 10 \n",
      "50 \n"
     ]
    }
   ],
   "source": [
    " #driver Code\n",
    "my_list=SingleLinkedList()\n",
    "my_list.insert_at_start(10)\n",
    "my_list.insert_at_start(30)\n",
    "my_list.insert_at_last(50)\n",
    "my_list.insert_after(my_list.search(20),25)\n",
    "my_list.print_list()\n",
    "print()\n",
    "my_list.delete_item(30)\n",
    "print()\n",
    "my_list.print_list()\n",
    "for x in my_list:\n",
    "    print(x,end=\" \")\n",
    "    \n",
    "    print()"
   ]
  },
  {
   "cell_type": "code",
   "execution_count": null,
   "id": "6582d334",
   "metadata": {},
   "outputs": [],
   "source": []
  }
 ],
 "metadata": {
  "kernelspec": {
   "display_name": "Python 3 (ipykernel)",
   "language": "python",
   "name": "python3"
  },
  "language_info": {
   "codemirror_mode": {
    "name": "ipython",
    "version": 3
   },
   "file_extension": ".py",
   "mimetype": "text/x-python",
   "name": "python",
   "nbconvert_exporter": "python",
   "pygments_lexer": "ipython3",
   "version": "3.11.5"
  }
 },
 "nbformat": 4,
 "nbformat_minor": 5
}
