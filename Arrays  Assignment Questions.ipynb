{
 "cells": [
  {
   "cell_type": "markdown",
   "id": "50c9265d-e502-4759-836d-6d4a6c628c44",
   "metadata": {},
   "source": [
    "1. Given an array, check if it contains any duplicates or not.\n",
    "arr = [1, 2, 4, 2, 5, 9]\n",
    "Output = True"
   ]
  },
  {
   "cell_type": "code",
   "execution_count": 1,
   "id": "c5f8e3e7-01d1-4927-930e-831bb77ffb89",
   "metadata": {},
   "outputs": [
    {
     "name": "stdout",
     "output_type": "stream",
     "text": [
      "True\n"
     ]
    }
   ],
   "source": [
    "def contains_duplicates(arr):\n",
    "    seen=set()\n",
    "    for num in arr:\n",
    "        if num in seen:\n",
    "            return True\n",
    "        seen.add(num)\n",
    "    return False\n",
    "arr = [1,2,4,2,5,9]\n",
    "output=contains_duplicates(arr)\n",
    "print(output) \n"
   ]
  },
  {
   "cell_type": "markdown",
   "id": "55e81364-75ea-4a72-a7e5-fc86e1d0aa15",
   "metadata": {},
   "source": [
    "2. Given an array and an integer k, rotate the array to the right by k steps.\n",
    "arr = [1, 2, 3, 4, 5, 6, 7] k = 3\n",
    "Output = [5, 6, 7, 1, 2, 3, 4]"
   ]
  },
  {
   "cell_type": "code",
   "execution_count": 2,
   "id": "2d10d52d-9526-4b4d-aa71-b3ac2c8b0f17",
   "metadata": {},
   "outputs": [
    {
     "name": "stdout",
     "output_type": "stream",
     "text": [
      "[5, 6, 7, 1, 2, 3, 4]\n"
     ]
    }
   ],
   "source": [
    "def rotate_array(arr, k):\n",
    "    n=len(arr)\n",
    "    k= k%n\n",
    "    arr[:]=arr[n-k:]+arr[:n-k]\n",
    "\n",
    "arr=[1,2,3,4,5,6,7]\n",
    "k=3\n",
    "rotate_array(arr, k)\n",
    "print(arr) \n"
   ]
  },
  {
   "cell_type": "markdown",
   "id": "171b9ca1-2a41-46be-a087-d0f3e37eba1c",
   "metadata": {},
   "source": [
    "3. Reverse the given array in-place, means without using any extra data structure.\n",
    "arr = [2, 4, 5, 7, 9, 12]\n",
    "Output = [12, 9, 7, 5, 4, 2]"
   ]
  },
  {
   "cell_type": "code",
   "execution_count": 7,
   "id": "9e8a4734-b35c-430b-8e0b-30fc44ecc317",
   "metadata": {},
   "outputs": [
    {
     "name": "stdout",
     "output_type": "stream",
     "text": [
      "[12, 9, 7, 5, 4, 2]\n"
     ]
    }
   ],
   "source": [
    "def reverse_array(arr):\n",
    "    left=0\n",
    "    right=len(arr)-1\n",
    "    \n",
    "    while left<right:\n",
    "        arr[left], arr[right]=arr[right],arr[left]\n",
    "        left +=1\n",
    "        right-=1\n",
    "\n",
    "arr = [2,4,5,7,9,12]\n",
    "reverse_array(arr)\n",
    "print(arr) \n"
   ]
  },
  {
   "cell_type": "markdown",
   "id": "2ae0fa6e-025c-411a-b149-ef1716aac27e",
   "metadata": {},
   "source": [
    "4. Given an array of integers, find the maximum element in an array\n",
    "arr = [10, 5, 20, 8, 15]\n",
    "Output = 20"
   ]
  },
  {
   "cell_type": "code",
   "execution_count": 8,
   "id": "2f109cd4-0027-460d-a177-ddb811a59322",
   "metadata": {},
   "outputs": [
    {
     "name": "stdout",
     "output_type": "stream",
     "text": [
      "20\n"
     ]
    }
   ],
   "source": [
    "def find_max(arr):\n",
    "    if not arr:\n",
    "        return None  \n",
    "    max_value = arr[0]\n",
    "    \n",
    "    for num in arr[1:]:\n",
    "        if num>max_value:\n",
    "            max_value=num \n",
    "            \n",
    "    return max_value\n",
    "\n",
    "arr = [10,5,20,8,15]\n",
    "output = find_max(arr)\n",
    "print(output)\n"
   ]
  },
  {
   "cell_type": "markdown",
   "id": "594de46a-2dcb-4949-a2f3-51dca0fbd58f",
   "metadata": {},
   "source": [
    "5. Given a sorted array, remove the duplicate element without using any extra data structure.\n",
    "arr = [1, 1, 2, 2, 2, 3, 3, 4, 4, 4, 5, 5]\n",
    "Output = [1, 2, 3, 4, 5]"
   ]
  },
  {
   "cell_type": "code",
   "execution_count": 9,
   "id": "5145ae4c-7476-4c35-9b05-19d238145f76",
   "metadata": {},
   "outputs": [
    {
     "name": "stdout",
     "output_type": "stream",
     "text": [
      "[1, 2, 3, 4, 5]\n"
     ]
    }
   ],
   "source": [
    "def remove_duplicates(arr):\n",
    "    if not arr:\n",
    "        return []\n",
    "    unique_index = 1\n",
    "    for i in range(1, len(arr)):\n",
    "        if arr[i]!=arr[i-1]:\n",
    "            arr[unique_index]=arr[i]\n",
    "            unique_index+=1\n",
    "\n",
    "    return arr[:unique_index]\n",
    "\n",
    "arr=[1,1,2,2,2,3,3,4,4,4,5,5]\n",
    "output=remove_duplicates(arr)\n",
    "print(output)\n"
   ]
  },
  {
   "cell_type": "code",
   "execution_count": null,
   "id": "861ef3ff-f155-4263-854c-528ac8eed5c5",
   "metadata": {},
   "outputs": [],
   "source": []
  }
 ],
 "metadata": {
  "kernelspec": {
   "display_name": "Python 3 (ipykernel)",
   "language": "python",
   "name": "python3"
  },
  "language_info": {
   "codemirror_mode": {
    "name": "ipython",
    "version": 3
   },
   "file_extension": ".py",
   "mimetype": "text/x-python",
   "name": "python",
   "nbconvert_exporter": "python",
   "pygments_lexer": "ipython3",
   "version": "3.11.7"
  }
 },
 "nbformat": 4,
 "nbformat_minor": 5
}
