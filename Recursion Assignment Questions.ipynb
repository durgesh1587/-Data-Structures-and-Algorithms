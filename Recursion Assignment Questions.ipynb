{
 "cells": [
  {
   "cell_type": "markdown",
   "id": "8ddb7640-366e-469d-95ac-88f5dcecc183",
   "metadata": {},
   "source": [
    "Q.1 Can you explain the logic and working of the Tower of Hanoi algorithm by writing a Java program?\n",
    "How does the recursion work, and how are the movements of disks between rods accomplished?"
   ]
  },
  {
   "cell_type": "code",
   "execution_count": 11,
   "id": "a897ad8d-b698-412e-a502-3e8ea57c3085",
   "metadata": {},
   "outputs": [
    {
     "name": "stdout",
     "output_type": "stream",
     "text": [
      "Move disk from A to C\n",
      "Move disk from A to B\n",
      "Move disk from C to B\n",
      "Move disk from A to C\n",
      "Move disk from B to A\n",
      "Move disk from B to C\n",
      "Move disk from A to C\n"
     ]
    }
   ],
   "source": [
    "\n",
    "def TowerofHanoi(n,source,auxiliary,destination):\n",
    "    if n==1:\n",
    "        print(\"Move disk from\", source, \"to\", destination)\n",
    "    else:\n",
    "        move_disks(n-1,source,destination,auxiliary)\n",
    "        print(\"Move disk from\", source,\"to\",destination)\n",
    "        move_disks(n-1,auxiliary,source,destination)\n",
    "def main():\n",
    "    number_of_disks=3 \n",
    "    source_rod = 'A'\n",
    "    auxiliary_rod = 'B'\n",
    "    destination_rod = 'C'\n",
    "    TowerofHanoi(number_of_disks, source_rod, auxiliary_rod, destination_rod)\n",
    "\n",
    "if __name__ == \"__main__\":\n",
    "    main()\n"
   ]
  },
  {
   "cell_type": "markdown",
   "id": "3089fa00-367f-4e51-8261-cbb6f156f5d1",
   "metadata": {},
   "source": [
    "Q.2 Given two strings word1 and word2, return the minimum number of operations required to convert word1\n",
    "to word2.\n",
    "Example 1:\n",
    "Input: word1 = \"horse\", word2 = \"ros\"\n",
    "Output: 3\n",
    "Explanation:\n",
    "horse -> rorse (replace 'h' with 'r')\n",
    "rorse -> rose (remove 'r')\n",
    "rose -> ros (remove 'e')\n",
    "python code "
   ]
  },
  {
   "cell_type": "code",
   "execution_count": 12,
   "id": "de32d01f-176b-407b-af99-ac4d7d86f63f",
   "metadata": {},
   "outputs": [
    {
     "name": "stdout",
     "output_type": "stream",
     "text": [
      "3\n"
     ]
    }
   ],
   "source": [
    "def minDistance(word1, word2):\n",
    "    dp=[[0]*(len(word2)+1) for _ in range(len(word1)+1)]\n",
    "\n",
    "    for i in range(len(word1)+1):\n",
    "        dp[i][0]=i\n",
    "    for j in range(len(word2)+1):\n",
    "        dp[0][j]=j\n",
    "\n",
    "    for i in range(1, len(word1)+1):\n",
    "        for j in range(1,len(word2)+1):\n",
    "            if word1[i - 1] == word2[j-1]:\n",
    "                dp[i][j] = dp[i-1][j-1]\n",
    "            else:\n",
    "                dp[i][j] = 1 + min(dp[i - 1][j],\n",
    "                                   dp[i][j - 1],        \n",
    "                                   dp[i - 1][j - 1])  \n",
    "\n",
    "    return dp[len(word1)][len(word2)]\n",
    "\n",
    "word1 = \"horse\"\n",
    "word2 = \"ros\"\n",
    "print(minDistance(word1, word2))\n"
   ]
  },
  {
   "cell_type": "markdown",
   "id": "28d93667-3635-47e9-bf5c-c9c463511ca6",
   "metadata": {},
   "source": [
    "Q. 3 Print the max value of the array [ 13, 1, -3, 22, 5]."
   ]
  },
  {
   "cell_type": "code",
   "execution_count": 14,
   "id": "1ec6ee2d-aa8c-4851-8c12-c665147c3a63",
   "metadata": {},
   "outputs": [
    {
     "name": "stdout",
     "output_type": "stream",
     "text": [
      "Max value of the array: 22\n"
     ]
    }
   ],
   "source": [
    "array = [13,1,-3,22,5]\n",
    "max_value = max(array)\n",
    "print(\"Max value of the array:\",max_value)\n"
   ]
  },
  {
   "cell_type": "markdown",
   "id": "78016db2-c018-4ab4-bca8-c873bbe5db54",
   "metadata": {},
   "source": [
    "Q.4 Find the sum of the values of the array [92, 23, 15, -20, 10]."
   ]
  },
  {
   "cell_type": "code",
   "execution_count": 15,
   "id": "d433dd78-8b96-4732-82bc-94e94f4df4df",
   "metadata": {},
   "outputs": [
    {
     "name": "stdout",
     "output_type": "stream",
     "text": [
      "Sum of the values of the array: 120\n"
     ]
    }
   ],
   "source": [
    "array = [92,23,15,-20,10]\n",
    "sum_of_array = sum(array)\n",
    "print(\"Sum of the values of the array:\",sum_of_array)\n"
   ]
  },
  {
   "cell_type": "markdown",
   "id": "0d563b4c-c5c0-45a6-9d8b-3e502512cdb2",
   "metadata": {},
   "source": [
    "Q.5 Given a number n. Print if it is an armstrong number or not.An armstrong number is a number if the sum\n",
    "of every digit in that number raised to the power of total digits in that number is equal to the number."
   ]
  },
  {
   "cell_type": "code",
   "execution_count": 16,
   "id": "804112e3-2b2d-4dab-b30d-b68141b8c154",
   "metadata": {},
   "outputs": [
    {
     "name": "stdin",
     "output_type": "stream",
     "text": [
      "Enter a number: 8\n"
     ]
    },
    {
     "name": "stdout",
     "output_type": "stream",
     "text": [
      "8 is an Armstrong number.\n"
     ]
    }
   ],
   "source": [
    "def is_armstrong_number(n):\n",
    "    num_str=str(n)\n",
    "    num_digits=len(num_str)    \n",
    "    armstrong_sum = sum(int(digit)**num_digits for digit in num_str)\n",
    "    \n",
    "    return armstrong_sum==n\n",
    "\n",
    "n=int(input(\"Enter a number:\"))\n",
    "if is_armstrong_number(n):\n",
    "    print(n,\"is an Armstrong number.\")\n",
    "else:\n",
    "    print(n,\"is not an Armstrong number.\")\n"
   ]
  },
  {
   "cell_type": "code",
   "execution_count": 18,
   "id": "aff953c8-bdd3-4266-8ce5-d42a3dc6b1a9",
   "metadata": {},
   "outputs": [
    {
     "name": "stdout",
     "output_type": "stream",
     "text": [
      "Output1: Yes\n",
      "Output2: No\n"
     ]
    }
   ],
   "source": [
    "def is_armstrong_number(n):\n",
    "    num_digits=len(str(n))    \n",
    "    armstrong_sum=0\n",
    "    temp=n\n",
    "    while temp>0:\n",
    "        digit = temp % 10\n",
    "        armstrong_sum += digit ** num_digits\n",
    "        temp //= 10\n",
    "    \n",
    "    return armstrong_sum == n\n",
    "input1 = 153\n",
    "input2 = 134\n",
    "\n",
    "output1 = \"Yes\" if is_armstrong_number(input1) else \"No\"\n",
    "output2 = \"Yes\" if is_armstrong_number(input2) else \"No\"\n",
    "\n",
    "print(\"Output1:\", output1)\n",
    "print(\"Output2:\", output2)\n"
   ]
  },
  {
   "cell_type": "code",
   "execution_count": null,
   "id": "6eeef491-1094-44e2-aef4-2398b3d3d740",
   "metadata": {},
   "outputs": [],
   "source": []
  }
 ],
 "metadata": {
  "kernelspec": {
   "display_name": "Python 3 (ipykernel)",
   "language": "python",
   "name": "python3"
  },
  "language_info": {
   "codemirror_mode": {
    "name": "ipython",
    "version": 3
   },
   "file_extension": ".py",
   "mimetype": "text/x-python",
   "name": "python",
   "nbconvert_exporter": "python",
   "pygments_lexer": "ipython3",
   "version": "3.11.7"
  }
 },
 "nbformat": 4,
 "nbformat_minor": 5
}
